{
 "cells": [
  {
   "cell_type": "code",
   "execution_count": 1,
   "metadata": {},
   "outputs": [],
   "source": [
    "import torch\n",
    "import numpy as np\n",
    "import pickle\n",
    "\n",
    "%load_ext autoreload\n",
    "%autoreload 2"
   ]
  },
  {
   "cell_type": "code",
   "execution_count": 2,
   "metadata": {},
   "outputs": [],
   "source": [
    "from vocab import Vocab, load_vocab\n",
    "from common import Data, Split, Batches, load_data, encode_y, load_split\n",
    "from utils import ProgressBar\n",
    "\n",
    "genre_list = pickle.load(open(\"../data/tmdb_genres_list.pkl\", 'rb'))\n",
    "\n",
    "GENRES = load_data(\"../local/genres.pkl\")\n",
    "train = load_split(\"../local/train.pkl\")\n",
    "val = load_split(\"../local/val.pkl\")\n",
    "test = load_split(\"../local/test.pkl\")\n",
    "embedding = torch.load('../local/embedding.pth')\n",
    "OVERVIEWS_ENCODED = load_data(\"../local/overviews_encoded.pkl\")\n",
    "TITLES_ENCODED = load_data(\"../local/titles_encoded.pkl\")"
   ]
  },
  {
   "cell_type": "code",
   "execution_count": 3,
   "metadata": {},
   "outputs": [],
   "source": [
    "from pack import Pack\n",
    "from model import Model1"
   ]
  },
  {
   "cell_type": "code",
   "execution_count": null,
   "metadata": {},
   "outputs": [],
   "source": [
    "model = Model1(embedding, hidden_dim=256, num_layers=2, cuda=True)\n",
    "optimizer = torch.optim.Adam(filter(lambda p:p.requires_grad, model.parameters()))\n",
    "loss = torch.nn.MultiLabelSoftMarginLoss().cuda()"
   ]
  },
  {
   "cell_type": "code",
   "execution_count": null,
   "metadata": {},
   "outputs": [],
   "source": [
    "def train_batches(batch_size, display=True):\n",
    "    losses = []\n",
    "\n",
    "    batches = Batches(train, batch_size)\n",
    "\n",
    "    pb = ProgressBar(batches.batch_N, display=display)\n",
    "\n",
    "    train.shuffle()\n",
    "    pb.reset()\n",
    "    for i in range(batches.batch_N):\n",
    "        model.zero_grad()\n",
    "        optimizer.zero_grad()\n",
    "\n",
    "        texts = batches.get_data(OVERVIEWS_ENCODED, i)\n",
    "        titles = batches.get_data(TITLES_ENCODED, i)\n",
    "        title_pack = Pack(titles, cuda=True)\n",
    "        text_pack = Pack(texts, cuda=True)\n",
    "        y_true = batches.get_data(GENRES, i)\n",
    "        y_true = torch.autograd.Variable(torch.from_numpy(y_true)).cuda().type(torch.cuda.FloatTensor)\n",
    "        model_output = model(title_pack, text_pack)\n",
    "\n",
    "        l = loss(model_output, y_true)\n",
    "        l.backward()\n",
    "\n",
    "        optimizer.step()\n",
    "\n",
    "        losses.append(l.data.cpu().numpy()[0])\n",
    "\n",
    "        pb.tick()\n",
    "        \n",
    "    return losses"
   ]
  },
  {
   "cell_type": "code",
   "execution_count": null,
   "metadata": {},
   "outputs": [],
   "source": [
    "import torch.nn.functional as F\n",
    "def inference(split, model):\n",
    "    batches = Batches(split, 128)\n",
    "\n",
    "    model = model.eval()\n",
    "    \n",
    "    preds = []\n",
    "    trues = []\n",
    "    \n",
    "    for i in range(batches.batch_N):    \n",
    "        texts = batches.get_data(OVERVIEWS_ENCODED, i)\n",
    "        titles = batches.get_data(TITLES_ENCODED, i)\n",
    "\n",
    "        title_pack = Pack(titles, cuda=True)\n",
    "        text_pack = Pack(texts, cuda=True)\n",
    "        model_output = model(title_pack, text_pack)\n",
    "        y_pred = (F.sigmoid(model_output).cpu()>0.5).data.numpy()\n",
    "\n",
    "        y_true = batches.get_data(GENRES, i)\n",
    "        \n",
    "        preds.append(y_pred)\n",
    "        trues.append(y_true)\n",
    "\n",
    "    model = model.train()\n",
    "    \n",
    "    return np.concatenate(preds), np.concatenate(trues)"
   ]
  },
  {
   "cell_type": "code",
   "execution_count": null,
   "metadata": {},
   "outputs": [],
   "source": [
    "def train_epoches(n_epochs, batch_size):\n",
    "    epoch_losses = []\n",
    "    for epoch in range(n_epochs):\n",
    "        losses = train_batches(batch_size, display=False)\n",
    "        epoch_losses.append(losses)\n",
    "        print(\"epoch {}:\".format(epoch), np.mean(losses))\n",
    "    p,t=inference(val, model)\n",
    "    pr = precision_score(p,t,average='weighted')\n",
    "    rc = recall_score(p,t,average='weighted')\n",
    "    print(\"P\", pr, \"\\tR:\", rc)\n",
    "    return epoch_losses"
   ]
  },
  {
   "cell_type": "code",
   "execution_count": null,
   "metadata": {},
   "outputs": [],
   "source": [
    "epoch_losses = train_epoches(20, 128)"
   ]
  },
  {
   "cell_type": "code",
   "execution_count": null,
   "metadata": {},
   "outputs": [],
   "source": []
  }
 ],
 "metadata": {
  "kernelspec": {
   "display_name": "Python 3",
   "language": "python",
   "name": "python3"
  },
  "language_info": {
   "codemirror_mode": {
    "name": "ipython",
    "version": 3
   },
   "file_extension": ".py",
   "mimetype": "text/x-python",
   "name": "python",
   "nbconvert_exporter": "python",
   "pygments_lexer": "ipython3",
   "version": "3.6.5"
  }
 },
 "nbformat": 4,
 "nbformat_minor": 2
}
