{
 "cells": [
  {
   "cell_type": "code",
   "execution_count": 1,
   "metadata": {},
   "outputs": [],
   "source": [
    "import torch\n",
    "import numpy as np\n",
    "\n",
    "%load_ext autoreload\n",
    "%autoreload 2"
   ]
  },
  {
   "cell_type": "code",
   "execution_count": 2,
   "metadata": {},
   "outputs": [],
   "source": [
    "import pickle\n",
    "\n",
    "data_file = \"../data/tmdb_posters.pkl\"\n",
    "data = pickle.load(open(data_file, 'rb'))\n",
    "\n",
    "genre_list = pickle.load(open(\"../data/tmdb_genres_list.pkl\", 'rb'))"
   ]
  },
  {
   "cell_type": "code",
   "execution_count": 3,
   "metadata": {},
   "outputs": [],
   "source": [
    "from common import Data, Split, Batches, load_data, encode_y, load_split\n",
    "\n",
    "# get overviews from data\n",
    "OVERVIEWS = Data(np.array([d['overview'] for d in data]))\n",
    "# get title from data\n",
    "TITLES = Data(np.array([d['title'] for d in data]))\n",
    "\n",
    "OVERVIEWS.save(\"../local/overviews.pkl\")\n",
    "TITLES.save(\"../local/titles.pkl\")\n",
    "\n",
    "OVERVIEWS = load_data(\"../local/overviews.pkl\")\n",
    "TITLES = load_data(\"../local/titles.pkl\")\n",
    "\n",
    "# get genres, encode as 'one'-hot vectors\n",
    "GENRES = Data(encode_y(np.array([d['genre_ids'] for d in data])))\n",
    "GENRES.save(\"../local/genres.pkl\")\n",
    "\n",
    "\n",
    "GENRES = load_data(\"../local/genres.pkl\")"
   ]
  },
  {
   "cell_type": "code",
   "execution_count": 4,
   "metadata": {},
   "outputs": [],
   "source": [
    "# create train-test split\n",
    "train, val, test = OVERVIEWS.create_splits(0.8,0.1)\n",
    "train.save(\"../local/train.pkl\")\n",
    "val.save(\"../local/val.pkl\")\n",
    "test.save(\"../local/test.pkl\")\n",
    "\n",
    "train = load_split(\"../local/train.pkl\")\n",
    "val = load_split(\"../local/val.pkl\")\n",
    "test = load_split(\"../local/test.pkl\")"
   ]
  },
  {
   "cell_type": "code",
   "execution_count": 60,
   "metadata": {},
   "outputs": [],
   "source": [
    "from vocab import Vocab, load_vocab\n",
    "\n",
    "# create vocab, this is to support fine-tuning of embeddings (otherwise don't call add_sentences)\n",
    "vocab = Vocab()\n",
    "vocab.initialize_glove(\"../local/glove/glove.6B.300d.txt\")\n",
    "print(len(vocab)) # 400001\n",
    "new_words_overviews = vocab.add_sentences(train.get_data(OVERVIEWS))\n",
    "new_words_titles = vocab.add_sentences(train.get_data(TITLES))\n",
    "print(len(vocab))  # 421262\n",
    "print(len(new_words_overviews)) # 18086\n",
    "print(len(new_words_titles)) # 3175\n",
    "vocab.save(\"../local/vocab.pkl\")\n",
    "\n",
    "# create embedding layer, for now we freeze the embedding layer. (default is freeze=True)\n",
    "vocab = load_vocab(\"../local/vocab.pkl\")\n",
    "embedding = vocab.create_pytorch_embeddings()\n",
    "torch.save(embedding, \"../local/embedding.pth\")\n",
    "\n",
    "embedding = torch.load('../local/embedding.pth')"
   ]
  },
  {
   "cell_type": "code",
   "execution_count": 6,
   "metadata": {},
   "outputs": [],
   "source": [
    "# encode data as indices\n",
    "OVERVIEWS_ENCODED = Data(vocab.encode_sentences(OVERVIEWS.data))\n",
    "TITLES_ENCODED = Data(vocab.encode_sentences(TITLES.data))\n",
    "\n",
    "OVERVIEWS_ENCODED.save(\"../local/overviews_encoded.pkl\")\n",
    "TITLES_ENCODED.save(\"../local/titles_encoded.pkl\")\n",
    "\n",
    "OVERVIEWS_ENCODED = load_data(\"../local/overviews_encoded.pkl\")\n",
    "TITLES_ENCODED = load_data(\"../local/titles_encoded.pkl\")"
   ]
  },
  {
   "cell_type": "code",
   "execution_count": null,
   "metadata": {},
   "outputs": [],
   "source": []
  }
 ],
 "metadata": {
  "kernelspec": {
   "display_name": "Python 3",
   "language": "python",
   "name": "python3"
  },
  "language_info": {
   "codemirror_mode": {
    "name": "ipython",
    "version": 3
   },
   "file_extension": ".py",
   "mimetype": "text/x-python",
   "name": "python",
   "nbconvert_exporter": "python",
   "pygments_lexer": "ipython3",
   "version": "3.6.5"
  }
 },
 "nbformat": 4,
 "nbformat_minor": 2
}
