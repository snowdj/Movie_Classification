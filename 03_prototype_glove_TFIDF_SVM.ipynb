{
 "cells": [
  {
   "cell_type": "code",
   "execution_count": 10,
   "metadata": {
    "collapsed": true
   },
   "outputs": [],
   "source": [
    "from src.glove import *\n",
    "glove = GloveEmbeddings(\"src/glove.6B/glove.6B.200d.txt\")"
   ]
  },
  {
   "cell_type": "code",
   "execution_count": 11,
   "metadata": {
    "collapsed": true
   },
   "outputs": [],
   "source": [
    "from modules import IO\n",
    "import numpy as np\n",
    "data_folder = './data/'\n",
    "imdb_genres_list = IO(data_folder + 'tmdb_genres_list.pkl').read_pickle()\n",
    "movies = IO(data_folder + 'tmdb_processed.pkl').read_pickle()"
   ]
  },
  {
   "cell_type": "code",
   "execution_count": 12,
   "metadata": {
    "collapsed": true
   },
   "outputs": [],
   "source": [
    "titles = np.array([m['title'] for m in movies])\n",
    "plots = np.array([m['overview'] for m in movies])\n",
    "genres = np.array([m['genre_ids'] for m in movies])"
   ]
  },
  {
   "cell_type": "code",
   "execution_count": 13,
   "metadata": {},
   "outputs": [
    {
     "data": {
      "text/plain": [
       "160973"
      ]
     },
     "execution_count": 13,
     "metadata": {},
     "output_type": "execute_result"
    }
   ],
   "source": [
    "len(titles)"
   ]
  },
  {
   "cell_type": "code",
   "execution_count": 14,
   "metadata": {
    "collapsed": true
   },
   "outputs": [],
   "source": [
    "np.random.seed(10)\n",
    "train_idx = np.random.choice(len(plots), replace=False, size=int(len(plots)*0.8))\n",
    "test_idx = set(range(len(plots))) - set(train_idx)\n",
    "test_idx = np.array(list(test_idx))"
   ]
  },
  {
   "cell_type": "markdown",
   "metadata": {},
   "source": [
    "# GLOVE"
   ]
  },
  {
   "cell_type": "code",
   "execution_count": 15,
   "metadata": {
    "collapsed": true
   },
   "outputs": [],
   "source": [
    "def get_sentence_embedding(weight_vector, freq_matrix, word_map, mean):\n",
    "    result = np.zeros(glove.emb_size)\n",
    "    tot_freq = 0\n",
    "    for key in weight_vector.keys():\n",
    "        i = key[1]\n",
    "\n",
    "        if i in __emb_cache:\n",
    "            emb = __emb_cache[i]\n",
    "        else:\n",
    "            word = word_map[i]\n",
    "            emb = glove.get_embedding(word)\n",
    "            __emb_cache[i] = emb\n",
    "        result += emb*weight_vector.get(key)\n",
    "        tot_freq += freq_matrix.get(key)\n",
    "    if mean:\n",
    "        return result/tot_freq\n",
    "    else:\n",
    "        return result\n",
    "\n",
    "def to_sentence_embedding_matrix(weight_matrix, freq_matrix, vectorizer, mean=True):\n",
    "    result = []\n",
    "    word_map = vectorizer.get_feature_names()\n",
    "    for i in range(weight_matrix.shape[0]):\n",
    "        emb = get_sentence_embedding(weight_vector=weight_matrix[i], freq_matrix=freq_matrix, word_map=word_map, mean=mean)\n",
    "        result.append(emb)\n",
    "    return np.array(result)"
   ]
  },
  {
   "cell_type": "code",
   "execution_count": 16,
   "metadata": {
    "collapsed": true
   },
   "outputs": [],
   "source": [
    "from sklearn.feature_extraction.text import CountVectorizer"
   ]
  },
  {
   "cell_type": "code",
   "execution_count": 17,
   "metadata": {
    "collapsed": true
   },
   "outputs": [],
   "source": [
    "cv = CountVectorizer()\n",
    "count_train = cv.fit_transform(plots[train_idx])\n",
    "count_test = cv.transform(plots[test_idx])\n",
    "__emb_cache = {}"
   ]
  },
  {
   "cell_type": "code",
   "execution_count": null,
   "metadata": {},
   "outputs": [
    {
     "name": "stderr",
     "output_type": "stream",
     "text": [
      "/Users/gwungwun/anaconda/lib/python3.6/site-packages/ipykernel_launcher.py:16: RuntimeWarning: divide by zero encountered in true_divide\n",
      "  app.launch_new_instance()\n",
      "/Users/gwungwun/anaconda/lib/python3.6/site-packages/ipykernel_launcher.py:16: RuntimeWarning: invalid value encountered in true_divide\n",
      "  app.launch_new_instance()\n"
     ]
    }
   ],
   "source": [
    "X_train = to_sentence_embedding_matrix(count_train.todok(), count_train.todok(), cv)\n",
    "X_test = to_sentence_embedding_matrix(count_test.todok(), count_test.todok(), cv)"
   ]
  },
  {
   "cell_type": "code",
   "execution_count": null,
   "metadata": {
    "collapsed": true
   },
   "outputs": [],
   "source": [
    "X_train.shape"
   ]
  },
  {
   "cell_type": "markdown",
   "metadata": {},
   "source": [
    "# TFIDF"
   ]
  },
  {
   "cell_type": "code",
   "execution_count": 154,
   "metadata": {
    "collapsed": true
   },
   "outputs": [],
   "source": [
    "from sklearn.feature_extraction.text import TfidfTransformer"
   ]
  },
  {
   "cell_type": "code",
   "execution_count": 155,
   "metadata": {
    "collapsed": true
   },
   "outputs": [],
   "source": [
    "tfidf = TfidfTransformer()"
   ]
  },
  {
   "cell_type": "code",
   "execution_count": 156,
   "metadata": {
    "collapsed": true
   },
   "outputs": [],
   "source": [
    "tfidf_train = tfidf.fit_transform(count_train)\n",
    "tfidf_test = tfidf.transform(count_test)"
   ]
  },
  {
   "cell_type": "code",
   "execution_count": 157,
   "metadata": {
    "collapsed": true
   },
   "outputs": [],
   "source": [
    "X_train_tfidf = to_sentence_embedding_matrix(tfidf_train.todok(), count_train.todok(), cv, mean=False)\n",
    "X_test_tfidf = to_sentence_embedding_matrix(tfidf_test.todok(), count_test.todok(), cv, mean=False)"
   ]
  },
  {
   "cell_type": "code",
   "execution_count": null,
   "metadata": {
    "collapsed": true
   },
   "outputs": [],
   "source": [
    "from sklearn.preprocessing import MultiLabelBinarizer\n",
    "mlb=MultiLabelBinarizer()\n",
    "Y=mlb.fit_transform(genres)"
   ]
  },
  {
   "cell_type": "code",
   "execution_count": null,
   "metadata": {
    "collapsed": true
   },
   "outputs": [],
   "source": [
    "Y_train = Y[train_idx]\n",
    "Y_test = Y[test_idx]"
   ]
  },
  {
   "cell_type": "code",
   "execution_count": null,
   "metadata": {
    "collapsed": true
   },
   "outputs": [],
   "source": []
  },
  {
   "cell_type": "code",
   "execution_count": null,
   "metadata": {
    "collapsed": true
   },
   "outputs": [],
   "source": [
    "def accuracy(gt, preds):\n",
    "    acc = 0\n",
    "    for i in range(len(gt)):\n",
    "        if gt[i] == preds[i]:\n",
    "            acc += 1\n",
    "            \n",
    "    return acc / len(gt)\n",
    "    "
   ]
  },
  {
   "cell_type": "code",
   "execution_count": null,
   "metadata": {
    "collapsed": true
   },
   "outputs": [],
   "source": [
    "def precision_recall(gt,preds):\n",
    "    TP=0\n",
    "    FP=0\n",
    "    FN=0\n",
    "    for i in range(len(gt)):\n",
    "        if gt[i] ==1 and preds[i] == 1:\n",
    "            TP+=1\n",
    "        elif gt[i] ==0 and preds[i] == 1:\n",
    "            FN+=1\n",
    "        elif gt[i] ==1 and preds[i] == 0:\n",
    "            FP+=1\n",
    "    if TP+FP==0:\n",
    "        precision=0\n",
    "    else:\n",
    "        precision=TP/float(TP+FP)\n",
    "    if TP+FN==0:\n",
    "        recall=0\n",
    "    else:\n",
    "        recall=TP/float(TP+FN)\n",
    "    return precision,recall"
   ]
  },
  {
   "cell_type": "code",
   "execution_count": 179,
   "metadata": {
    "collapsed": true
   },
   "outputs": [],
   "source": [
    "def evaluate(model, LabelPowerset = False, tfidf=False):\n",
    "    if tfidf:\n",
    "        X_tr = X_train_tfidf\n",
    "        X_te = X_test_tfidf\n",
    "    else:\n",
    "        X_tr = X_train\n",
    "        X_te = X_test\n",
    "    \n",
    "    model.fit(X_tr, Y_train)\n",
    "    train_acc = model.score(X_tr,Y_train)\n",
    "    test_acc = model.score(X_te,Y_test)\n",
    "    \n",
    "    if LabelPowerset:\n",
    "        predictions = model.predict(X_te).toarray()\n",
    "    else:\n",
    "        predictions = model.predict(X_te)\n",
    "        \n",
    "    precs=[]\n",
    "    recs=[]\n",
    "    for i in range(len(Y_test)):\n",
    "        a,b=precision_recall(Y_test[i],predictions[i])\n",
    "        precs.append(a)\n",
    "        recs.append(b)\n",
    "        acc = accuracy(Y_test[i],predictions[i])\n",
    "\n",
    "    print(\" Precision:{} Recall :{}\" .format(np.mean(np.asarray(precs)), np.mean(np.asarray(recs))))\n",
    "    print(\"accuracy : {}\".format(np.mean(acc)))"
   ]
  },
  {
   "cell_type": "code",
   "execution_count": 180,
   "metadata": {
    "collapsed": true
   },
   "outputs": [],
   "source": [
    "# from sklearn.metrics import f1_score\n",
    "# def evaluate(model, tfidf=False):\n",
    "#     if tfidf:\n",
    "#         X_tr = X_train_tfidf\n",
    "#         X_te = X_test_tfidf\n",
    "#     else:\n",
    "#         X_tr = X_train\n",
    "#         X_te = X_test\n",
    "    \n",
    "#     model.fit(X_tr, Y_train_thriller)\n",
    "#     train_acc = model.score(X_tr,Y_train_thriller)\n",
    "#     test_acc = model.score(X_te,Y_test_thriller)\n",
    "    \n",
    "#     train_f1 = f1_score(Y_train_thriller, model.predict(X_tr))\n",
    "#     test_f1 = f1_score(Y_test_thriller, model.predict(X_te))\n",
    "    \n",
    "#     print(\"Acc: {} (train)   {} (test)\".format(train_acc, test_acc))\n",
    "#     print(\"F1: {} (train)   {} (test)\".format(train_f1, test_f1))"
   ]
  },
  {
   "cell_type": "code",
   "execution_count": null,
   "metadata": {
    "collapsed": true
   },
   "outputs": [],
   "source": [
    "from sklearn.naive_bayes import MultinomialNB\n",
    "from sklearn.metrics import f1_score\n",
    "from skmultilearn.problem_transform import BinaryRelevance\n",
    "from sklearn.multiclass import OneVsRestClassifier\n",
    "from skmultilearn.problem_transform import LabelPowerset"
   ]
  },
  {
   "cell_type": "markdown",
   "metadata": {
    "collapsed": true
   },
   "source": [
    "# SVM"
   ]
  },
  {
   "cell_type": "code",
   "execution_count": null,
   "metadata": {
    "collapsed": true
   },
   "outputs": [],
   "source": [
    "from sklearn.svm import LinearSVC\n",
    "from sklearn.svm import SVC"
   ]
  },
  {
   "cell_type": "code",
   "execution_count": null,
   "metadata": {
    "collapsed": true
   },
   "outputs": [],
   "source": [
    "svm = OneVsRestClassifier(LinearSVC())"
   ]
  },
  {
   "cell_type": "code",
   "execution_count": null,
   "metadata": {
    "collapsed": true
   },
   "outputs": [],
   "source": [
    "evaluate(svm)"
   ]
  },
  {
   "cell_type": "code",
   "execution_count": 185,
   "metadata": {},
   "outputs": [
    {
     "name": "stdout",
     "output_type": "stream",
     "text": [
      " Precision:0.6142916666666667 Recall :0.5780238095238095\n",
      "accuracy : 0.55\n"
     ]
    }
   ],
   "source": [
    "evaluate(svm, tfidf=True)"
   ]
  },
  {
   "cell_type": "code",
   "execution_count": 126,
   "metadata": {},
   "outputs": [
    {
     "name": "stdout",
     "output_type": "stream",
     "text": [
      " Precision:0.5066607142857142 Recall :0.5864999999999999\n",
      " Precision:0.6593630952380952 Recall :0.7204880952380952\n"
     ]
    }
   ],
   "source": [
    "svm2 = LabelPowerset(SVC(kernel='linear'))\n",
    "evaluate(svm2, LabelPowerset=True)\n",
    "evaluate(svm2, LabelPowerset=True, tfidf= True)"
   ]
  },
  {
   "cell_type": "code",
   "execution_count": 140,
   "metadata": {
    "collapsed": true
   },
   "outputs": [],
   "source": [
    "from sklearn.model_selection import GridSearchCV\n",
    "from sklearn.metrics import make_scorer\n",
    "\n",
    "parameters = {'kernel':['linear'], 'C':[0.01, 0.1, 1.0, 10]}\n",
    "gridCV = GridSearchCV(SVC(class_weight='balanced'), parameters, scoring=make_scorer(f1_score, average='micro'))\n",
    "ovr = OneVsRestClassifier(gridCV)"
   ]
  },
  {
   "cell_type": "code",
   "execution_count": 141,
   "metadata": {},
   "outputs": [
    {
     "name": "stdout",
     "output_type": "stream",
     "text": [
      " Precision:0.7496488095238095 Recall :0.6170476190476191\n"
     ]
    }
   ],
   "source": [
    "evaluate(ovr, tfidf=True)"
   ]
  },
  {
   "cell_type": "code",
   "execution_count": 142,
   "metadata": {},
   "outputs": [
    {
     "name": "stderr",
     "output_type": "stream",
     "text": [
      "/Users/gwungwun/anaconda/lib/python3.6/site-packages/sklearn/model_selection/_split.py:605: Warning: The least populated class in y has only 1 members, which is too few. The minimum number of members in any class cannot be less than n_splits=3.\n",
      "  % (min_groups, self.n_splits)), Warning)\n"
     ]
    },
    {
     "name": "stdout",
     "output_type": "stream",
     "text": [
      " Precision:0.6593630952380952 Recall :0.7204880952380952\n"
     ]
    }
   ],
   "source": [
    "lps = LabelPowerset(gridCV)\n",
    "evaluate(lps, tfidf=True, LabelPowerset=True)"
   ]
  },
  {
   "cell_type": "code",
   "execution_count": 24,
   "metadata": {},
   "outputs": [
    {
     "name": "stdout",
     "output_type": "stream",
     "text": [
      "[master 5d60b14] update tfidf\n",
      " 1 file changed, 21 insertions(+), 21 deletions(-)\n"
     ]
    },
    {
     "name": "stderr",
     "output_type": "stream",
     "text": [
      "warning: LF will be replaced by CRLF in 03_prototype_BoW_TFIDF_NB_BinaryRelevance.ipynb.\n",
      "The file will have its original line endings in your working directory.\n"
     ]
    }
   ],
   "source": [
    "#!git commit -a -m \"update tfidf\""
   ]
  },
  {
   "cell_type": "code",
   "execution_count": 25,
   "metadata": {},
   "outputs": [
    {
     "name": "stderr",
     "output_type": "stream",
     "text": [
      "To github.com:xuwd11/Movie_Classification.git\n",
      "   bf63c30..5d60b14  master -> master\n"
     ]
    }
   ],
   "source": [
    "#!git push"
   ]
  },
  {
   "cell_type": "code",
   "execution_count": null,
   "metadata": {
    "collapsed": true
   },
   "outputs": [],
   "source": []
  }
 ],
 "metadata": {
  "kernelspec": {
   "display_name": "Python 3",
   "language": "python",
   "name": "python3"
  },
  "language_info": {
   "codemirror_mode": {
    "name": "ipython",
    "version": 3
   },
   "file_extension": ".py",
   "mimetype": "text/x-python",
   "name": "python",
   "nbconvert_exporter": "python",
   "pygments_lexer": "ipython3",
   "version": "3.6.1"
  }
 },
 "nbformat": 4,
 "nbformat_minor": 2
}
