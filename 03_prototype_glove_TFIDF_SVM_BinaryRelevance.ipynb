{
 "cells": [
  {
   "cell_type": "code",
   "execution_count": 1,
   "metadata": {},
   "outputs": [],
   "source": [
    "from src.glove import *\n",
    "glove = GloveEmbeddings(\"../../../glove/glove.6B.50d.txt\")"
   ]
  },
  {
   "cell_type": "code",
   "execution_count": 2,
   "metadata": {
    "collapsed": true
   },
   "outputs": [],
   "source": [
    "from modules import IO\n",
    "import numpy as np\n",
    "data_folder = './data/'\n",
    "imdb_genres_list = IO(data_folder + 'imdb_genres_list.pkl').read_pickle()\n",
    "movies = IO(data_folder + 'top1000_all.pkl').read_pickle()"
   ]
  },
  {
   "cell_type": "code",
   "execution_count": 3,
   "metadata": {
    "collapsed": true
   },
   "outputs": [],
   "source": [
    "titles = np.array([m['imdb_title'] for m in movies])\n",
    "plots = np.array([\"\\n\".join(m['imdb_plot']) for m in movies])\n",
    "genres = np.array([m['imdb_genres'] for m in movies])"
   ]
  },
  {
   "cell_type": "code",
   "execution_count": 4,
   "metadata": {},
   "outputs": [
    {
     "data": {
      "text/plain": [
       "1000"
      ]
     },
     "execution_count": 4,
     "metadata": {},
     "output_type": "execute_result"
    }
   ],
   "source": [
    "len(titles)"
   ]
  },
  {
   "cell_type": "code",
   "execution_count": 5,
   "metadata": {
    "collapsed": true
   },
   "outputs": [],
   "source": [
    "np.random.seed(10)\n",
    "train_idx = np.random.choice(len(plots), replace=False, size=int(len(plots)*0.8))\n",
    "test_idx = set(range(len(plots))) - set(train_idx)\n",
    "test_idx = np.array(list(test_idx))"
   ]
  },
  {
   "cell_type": "markdown",
   "metadata": {},
   "source": [
    "# GLOVE"
   ]
  },
  {
   "cell_type": "code",
   "execution_count": 6,
   "metadata": {
    "collapsed": true
   },
   "outputs": [],
   "source": [
    "def get_sentence_embedding(weight_vector, freq_matrix, word_map, mean):\n",
    "    result = np.zeros(glove.emb_size)\n",
    "    tot_freq = 0\n",
    "    for key in weight_vector.keys():\n",
    "        i = key[1]\n",
    "\n",
    "        if i in __emb_cache:\n",
    "            emb = __emb_cache[i]\n",
    "        else:\n",
    "            word = word_map[i]\n",
    "            emb = glove.get_embedding(word)\n",
    "            __emb_cache[i] = emb\n",
    "        result += emb*weight_vector.get(key)\n",
    "        tot_freq += freq_matrix.get(key)\n",
    "    if mean:\n",
    "        return result/tot_freq\n",
    "    else:\n",
    "        return result\n",
    "\n",
    "def to_sentence_embedding_matrix(weight_matrix, freq_matrix, vectorizer, mean=True):\n",
    "    result = []\n",
    "    word_map = vectorizer.get_feature_names()\n",
    "    for i in range(weight_matrix.shape[0]):\n",
    "        emb = get_sentence_embedding(weight_vector=weight_matrix[i], freq_matrix=freq_matrix, word_map=word_map, mean=mean)\n",
    "        result.append(emb)\n",
    "    return np.array(result)"
   ]
  },
  {
   "cell_type": "code",
   "execution_count": 7,
   "metadata": {
    "collapsed": true
   },
   "outputs": [],
   "source": [
    "from sklearn.feature_extraction.text import CountVectorizer"
   ]
  },
  {
   "cell_type": "code",
   "execution_count": 8,
   "metadata": {},
   "outputs": [],
   "source": [
    "cv = CountVectorizer()\n",
    "count_train = cv.fit_transform(plots[train_idx])\n",
    "count_test = cv.transform(plots[test_idx])\n",
    "__emb_cache = {}"
   ]
  },
  {
   "cell_type": "code",
   "execution_count": 9,
   "metadata": {},
   "outputs": [],
   "source": [
    "X_train = to_sentence_embedding_matrix(count_train.todok(), count_train.todok(), cv)\n",
    "X_test = to_sentence_embedding_matrix(count_test.todok(), count_test.todok(), cv)"
   ]
  },
  {
   "cell_type": "code",
   "execution_count": 10,
   "metadata": {},
   "outputs": [
    {
     "data": {
      "text/plain": [
       "(800, 50)"
      ]
     },
     "execution_count": 10,
     "metadata": {},
     "output_type": "execute_result"
    }
   ],
   "source": [
    "X_train.shape"
   ]
  },
  {
   "cell_type": "markdown",
   "metadata": {},
   "source": [
    "# TFIDF"
   ]
  },
  {
   "cell_type": "code",
   "execution_count": 11,
   "metadata": {
    "collapsed": true
   },
   "outputs": [],
   "source": [
    "from sklearn.feature_extraction.text import TfidfTransformer"
   ]
  },
  {
   "cell_type": "code",
   "execution_count": 12,
   "metadata": {
    "collapsed": true
   },
   "outputs": [],
   "source": [
    "tfidf = TfidfTransformer()"
   ]
  },
  {
   "cell_type": "code",
   "execution_count": 13,
   "metadata": {
    "collapsed": true
   },
   "outputs": [],
   "source": [
    "tfidf_train = tfidf.fit_transform(count_train)\n",
    "tfidf_test = tfidf.transform(count_test)"
   ]
  },
  {
   "cell_type": "code",
   "execution_count": 14,
   "metadata": {},
   "outputs": [],
   "source": [
    "X_train_tfidf = to_sentence_embedding_matrix(tfidf_train.todok(), count_train.todok(), cv, mean=False)\n",
    "X_test_tfidf = to_sentence_embedding_matrix(tfidf_test.todok(), count_test.todok(), cv, mean=False)"
   ]
  },
  {
   "cell_type": "markdown",
   "metadata": {},
   "source": [
    "# Only for class 'Thriller'"
   ]
  },
  {
   "cell_type": "code",
   "execution_count": 15,
   "metadata": {
    "collapsed": true
   },
   "outputs": [],
   "source": [
    "def get_binary_y(genres, class_name):\n",
    "    return np.array([class_name in g for g in genres])"
   ]
  },
  {
   "cell_type": "code",
   "execution_count": 16,
   "metadata": {
    "collapsed": true
   },
   "outputs": [],
   "source": [
    "Y_train_thriller = get_binary_y(genres[train_idx], 'Thriller')\n",
    "Y_test_thriller = get_binary_y(genres[test_idx], 'Thriller')"
   ]
  },
  {
   "cell_type": "markdown",
   "metadata": {
    "collapsed": true
   },
   "source": [
    "# SVM"
   ]
  },
  {
   "cell_type": "code",
   "execution_count": 17,
   "metadata": {
    "collapsed": true
   },
   "outputs": [],
   "source": [
    "from sklearn.svm import LinearSVC"
   ]
  },
  {
   "cell_type": "code",
   "execution_count": 18,
   "metadata": {
    "collapsed": true
   },
   "outputs": [],
   "source": [
    "svm = LinearSVC()"
   ]
  },
  {
   "cell_type": "code",
   "execution_count": 21,
   "metadata": {
    "collapsed": true
   },
   "outputs": [],
   "source": [
    "from sklearn.metrics import f1_score\n",
    "def evaluate(model, tfidf=False):\n",
    "    if tfidf:\n",
    "        X_tr = X_train_tfidf\n",
    "        X_te = X_test_tfidf\n",
    "    else:\n",
    "        X_tr = X_train\n",
    "        X_te = X_test\n",
    "    \n",
    "    model.fit(X_tr, Y_train_thriller)\n",
    "    train_acc = model.score(X_tr,Y_train_thriller)\n",
    "    test_acc = model.score(X_te,Y_test_thriller)\n",
    "    \n",
    "    train_f1 = f1_score(Y_train_thriller, model.predict(X_tr))\n",
    "    test_f1 = f1_score(Y_test_thriller, model.predict(X_te))\n",
    "    \n",
    "    print(\"Acc: {} (train)   {} (test)\".format(train_acc, test_acc))\n",
    "    print(\"F1: {} (train)   {} (test)\".format(train_f1, test_f1))"
   ]
  },
  {
   "cell_type": "code",
   "execution_count": 22,
   "metadata": {},
   "outputs": [
    {
     "name": "stdout",
     "output_type": "stream",
     "text": [
      "Acc: 0.79125 (train)   0.825 (test)\n",
      "F1: 0.6890130353817505 (train)   0.6846846846846846 (test)\n"
     ]
    }
   ],
   "source": [
    "evaluate(svm)"
   ]
  },
  {
   "cell_type": "code",
   "execution_count": 23,
   "metadata": {},
   "outputs": [
    {
     "name": "stdout",
     "output_type": "stream",
     "text": [
      "Acc: 0.76 (train)   0.76 (test)\n",
      "F1: 0.5789473684210527 (train)   0.5294117647058824 (test)\n"
     ]
    }
   ],
   "source": [
    "evaluate(svm, tfidf=True)"
   ]
  },
  {
   "cell_type": "code",
   "execution_count": 24,
   "metadata": {},
   "outputs": [
    {
     "name": "stdout",
     "output_type": "stream",
     "text": [
      "[master 5d60b14] update tfidf\n",
      " 1 file changed, 21 insertions(+), 21 deletions(-)\n"
     ]
    },
    {
     "name": "stderr",
     "output_type": "stream",
     "text": [
      "warning: LF will be replaced by CRLF in 03_prototype_BoW_TFIDF_NB_BinaryRelevance.ipynb.\n",
      "The file will have its original line endings in your working directory.\n"
     ]
    }
   ],
   "source": [
    "!git commit -a -m \"update tfidf\""
   ]
  },
  {
   "cell_type": "code",
   "execution_count": 25,
   "metadata": {},
   "outputs": [
    {
     "name": "stderr",
     "output_type": "stream",
     "text": [
      "To github.com:xuwd11/Movie_Classification.git\n",
      "   bf63c30..5d60b14  master -> master\n"
     ]
    }
   ],
   "source": [
    "!git push"
   ]
  },
  {
   "cell_type": "code",
   "execution_count": null,
   "metadata": {
    "collapsed": true
   },
   "outputs": [],
   "source": []
  }
 ],
 "metadata": {
  "kernelspec": {
   "display_name": "Python 3",
   "language": "python",
   "name": "python3"
  },
  "language_info": {
   "codemirror_mode": {
    "name": "ipython",
    "version": 3
   },
   "file_extension": ".py",
   "mimetype": "text/x-python",
   "name": "python",
   "nbconvert_exporter": "python",
   "pygments_lexer": "ipython3",
   "version": "3.6.5"
  }
 },
 "nbformat": 4,
 "nbformat_minor": 2
}
