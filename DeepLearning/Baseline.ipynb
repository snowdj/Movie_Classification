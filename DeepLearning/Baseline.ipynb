{
 "cells": [
  {
   "cell_type": "code",
   "execution_count": 1,
   "metadata": {},
   "outputs": [],
   "source": [
    "import numpy as np\n",
    "import pickle\n",
    "import cv2\n",
    "import os\n",
    "\n",
    "from vocab import Vocab, load_vocab\n",
    "from common import Data, Split, Batches, load_data, encode_y, load_split\n",
    "from pack import Pack\n",
    "\n",
    "%load_ext autoreload\n",
    "%autoreload 2"
   ]
  },
  {
   "cell_type": "code",
   "execution_count": 2,
   "metadata": {},
   "outputs": [],
   "source": [
    "genre_list = pickle.load(open(\"../data/tmdb_genres_list.pkl\", 'rb'))\n",
    "\n",
    "GENRES = load_data(\"../local/genres.pkl\")\n",
    "train = load_split(\"../local/train.pkl\")\n",
    "val = load_split(\"../local/val.pkl\")\n",
    "test = load_split(\"../local/test.pkl\")\n",
    "OVERVIEWS = load_data(\"../local/overviews_encoded.pkl\")"
   ]
  },
  {
   "cell_type": "code",
   "execution_count": 3,
   "metadata": {},
   "outputs": [],
   "source": [
    "X_train = train.get_data(OVERVIEWS)\n",
    "X_val = val.get_data(OVERVIEWS)\n",
    "X_test = test.get_data(OVERVIEWS)\n",
    "Y_train = train.get_data(GENRES)\n",
    "Y_val = val.get_data(GENRES)\n",
    "Y_test = test.get_data(GENRES)\n",
    "\n",
    "X_train = [\" \".join([str(e) for e in x]) for x in X_train]\n",
    "X_val = [\" \".join([str(e) for e in x]) for x in X_val]\n",
    "X_test = [\" \".join([str(e) for e in x]) for x in X_test]"
   ]
  },
  {
   "cell_type": "code",
   "execution_count": 4,
   "metadata": {},
   "outputs": [],
   "source": [
    "from sklearn.feature_extraction.text import CountVectorizer\n",
    "from sklearn.feature_extraction.text import TfidfTransformer\n",
    "cv = CountVectorizer()"
   ]
  },
  {
   "cell_type": "code",
   "execution_count": 5,
   "metadata": {},
   "outputs": [],
   "source": [
    "X_train_cv = cv.fit_transform(X_train)\n",
    "X_val_cv = cv.transform(X_val)\n",
    "X_test_cv = cv.transform(X_test)"
   ]
  },
  {
   "cell_type": "code",
   "execution_count": 14,
   "metadata": {},
   "outputs": [],
   "source": [
    "from sklearn.naive_bayes import MultinomialNB, GaussianNB\n",
    "from sklearn.metrics import f1_score, roc_auc_score\n",
    "\n",
    "from skmultilearn.problem_transform import BinaryRelevance\n",
    "\n",
    "from sklearn.multiclass import OneVsRestClassifier\n",
    "\n",
    "from sklearn.svm import LinearSVC, SVC"
   ]
  },
  {
   "cell_type": "code",
   "execution_count": 7,
   "metadata": {},
   "outputs": [
    {
     "data": {
      "text/plain": [
       "OneVsRestClassifier(estimator=LinearSVC(C=1.0, class_weight=None, dual=True, fit_intercept=True,\n",
       "     intercept_scaling=1, loss='squared_hinge', max_iter=1000,\n",
       "     multi_class='ovr', penalty='l2', random_state=None, tol=0.0001,\n",
       "     verbose=0),\n",
       "          n_jobs=1)"
      ]
     },
     "execution_count": 7,
     "metadata": {},
     "output_type": "execute_result"
    }
   ],
   "source": [
    "svm = OneVsRestClassifier(LinearSVC())\n",
    "svm.fit(X_train_cv, Y_train)"
   ]
  },
  {
   "cell_type": "code",
   "execution_count": 8,
   "metadata": {},
   "outputs": [],
   "source": [
    "val_predict_svm = svm.predict(X_val_cv)\n",
    "test_predict_svm = svm.predict(X_test_cv)"
   ]
  },
  {
   "cell_type": "code",
   "execution_count": 9,
   "metadata": {},
   "outputs": [
    {
     "name": "stdout",
     "output_type": "stream",
     "text": [
      "0.5013595752945745\n"
     ]
    }
   ],
   "source": [
    "print(f1_score(Y_val, val_predict_svm, average=\"micro\"))\n",
    "#print(f1_score(Y_val, val_predict_svm, average=\"macro\"))\n",
    "#print(f1_score(Y_val, val_predict_svm, average=\"weighted\"))"
   ]
  },
  {
   "cell_type": "code",
   "execution_count": 10,
   "metadata": {},
   "outputs": [
    {
     "name": "stdout",
     "output_type": "stream",
     "text": [
      "0.49203213486105624\n"
     ]
    }
   ],
   "source": [
    "print(f1_score(Y_test, test_predict_svm, average=\"micro\"))\n",
    "#print(f1_score(Y_test, test_predict_svm, average=\"macro\"))\n",
    "#print(f1_score(Y_test, test_predict_svm, average=\"weighted\"))"
   ]
  },
  {
   "cell_type": "code",
   "execution_count": 12,
   "metadata": {},
   "outputs": [],
   "source": [
    "val_proba_svm = svm.decision_function(X_val_cv)"
   ]
  },
  {
   "cell_type": "code",
   "execution_count": 19,
   "metadata": {},
   "outputs": [
    {
     "name": "stdout",
     "output_type": "stream",
     "text": [
      "0.8460884411504801\n"
     ]
    }
   ],
   "source": [
    "print(roc_auc_score(Y_val,val_proba_svm,average='micro'))\n",
    "#print(roc_auc_score(Y_val,val_proba_svm,average='macro'))\n",
    "#print(roc_auc_score(Y_val,val_proba_svm,average='weighted'))"
   ]
  },
  {
   "cell_type": "code",
   "execution_count": null,
   "metadata": {},
   "outputs": [],
   "source": []
  }
 ],
 "metadata": {
  "kernelspec": {
   "display_name": "Python 3",
   "language": "python",
   "name": "python3"
  },
  "language_info": {
   "codemirror_mode": {
    "name": "ipython",
    "version": 3
   },
   "file_extension": ".py",
   "mimetype": "text/x-python",
   "name": "python",
   "nbconvert_exporter": "python",
   "pygments_lexer": "ipython3",
   "version": "3.6.5"
  }
 },
 "nbformat": 4,
 "nbformat_minor": 2
}
