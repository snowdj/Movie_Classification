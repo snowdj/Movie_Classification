{
 "cells": [
  {
   "cell_type": "code",
   "execution_count": null,
   "metadata": {},
   "outputs": [],
   "source": [
    "import torch\n",
    "import numpy as np\n",
    "import pickle\n",
    "\n",
    "from vocab import Vocab, load_vocab\n",
    "from common import Data, Split, Batches, load_data, encode_y, load_split\n",
    "from utils import ProgressBar, evaluate\n",
    "from pack import Pack\n",
    "from model import Model, Model2, TextOnlyModel\n",
    "from train import train_epoches\n",
    "\n",
    "%load_ext autoreload\n",
    "%autoreload 2"
   ]
  },
  {
   "cell_type": "code",
   "execution_count": null,
   "metadata": {},
   "outputs": [],
   "source": [
    "genre_list = pickle.load(open(\"../data/tmdb_genres_list.pkl\", 'rb'))\n",
    "\n",
    "GENRES = load_data(\"../local/genres.pkl\")\n",
    "train = load_split(\"../local/train.pkl\")\n",
    "val = load_split(\"../local/val.pkl\")\n",
    "test = load_split(\"../local/test.pkl\")\n",
    "embedding = torch.load('../local/embedding.pth')\n",
    "OVERVIEWS_ENCODED = load_data(\"../local/overviews_encoded.pkl\")\n",
    "TITLES_ENCODED = load_data(\"../local/titles_encoded.pkl\")"
   ]
  },
  {
   "cell_type": "code",
   "execution_count": null,
   "metadata": {},
   "outputs": [],
   "source": [
    "_model = Model2(embedding, hidden_dim=512, num_layers=3, cuda=True)\n",
    "tomodel = TextOnlyModel(_model.encoder, _model.classifier, OVERVIEWS_ENCODED, GENRES)\n",
    "loss = torch.nn.BCEWithLogitsLoss().cuda()"
   ]
  },
  {
   "cell_type": "code",
   "execution_count": null,
   "metadata": {},
   "outputs": [],
   "source": [
    "adam = torch.optim.Adam(filter(lambda p:p.requires_grad, _model.parameters()))\n",
    "\n",
    "sgd = torch.optim.SGD(params=filter(lambda p:p.requires_grad, tomodel.parameters()),\n",
    "                            lr=1e-3, momentum=0.9)\n",
    "\n",
    "scheduler = torch.optim.lr_scheduler.ReduceLROnPlateau(sgd, 'max')\n",
    "\n",
    "optimizer = adam\n",
    "scheduler = None"
   ]
  },
  {
   "cell_type": "code",
   "execution_count": null,
   "metadata": {
    "scrolled": false
   },
   "outputs": [],
   "source": [
    "loss_hist = []\n",
    "for i in range(10):\n",
    "    train_epoches(n_epochs=20, model=tomodel, train=train, loss=loss, val=val,\n",
    "                  batch_size=32, optimizer=optimizer, scheduler=scheduler)\n",
    "    loss_hist.append(epoch_losses)\n",
    "    bn = (i+1)*50\n",
    "    torch.save(tomodel.encoder, \"saved/encoder_{}.pth\".format(bn))\n",
    "    torch.save(tomodel.classifier, \"saved/rnn_cls_{}.pth\".format(bn))"
   ]
  },
  {
   "cell_type": "code",
   "execution_count": null,
   "metadata": {},
   "outputs": [],
   "source": []
  },
  {
   "cell_type": "code",
   "execution_count": null,
   "metadata": {},
   "outputs": [],
   "source": []
  }
 ],
 "metadata": {
  "kernelspec": {
   "display_name": "Python 3",
   "language": "python",
   "name": "python3"
  },
  "language_info": {
   "codemirror_mode": {
    "name": "ipython",
    "version": 3
   },
   "file_extension": ".py",
   "mimetype": "text/x-python",
   "name": "python",
   "nbconvert_exporter": "python",
   "pygments_lexer": "ipython3",
   "version": "3.6.5"
  }
 },
 "nbformat": 4,
 "nbformat_minor": 2
}
