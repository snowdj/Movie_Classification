{
 "cells": [
  {
   "cell_type": "code",
   "execution_count": 1,
   "metadata": {},
   "outputs": [],
   "source": [
    "import torch\n",
    "import numpy as np\n",
    "import pickle\n",
    "import cv2\n",
    "import os\n",
    "\n",
    "from torchvision.models import resnet152\n",
    "from torchvision import transforms\n",
    "from torch import nn\n",
    "\n",
    "from vocab import Vocab, load_vocab\n",
    "from common import Data, Split, Batches, load_data, encode_y, load_split\n",
    "from utils import ProgressBar, evaluate\n",
    "from pack import Pack\n",
    "from model import MultiLayerFCReLUClassifier, PosterOnlyModel, Model\n",
    "from itertools import chain\n",
    "from train import train_epoches\n",
    "\n",
    "%load_ext autoreload\n",
    "%autoreload 2"
   ]
  },
  {
   "cell_type": "code",
   "execution_count": 2,
   "metadata": {},
   "outputs": [],
   "source": [
    "genre_list = pickle.load(open(\"../data/tmdb_genres_list.pkl\", 'rb'))\n",
    "\n",
    "GENRES = load_data(\"../local/genres.pkl\")\n",
    "train = load_split(\"../local/train.pkl\")\n",
    "val = load_split(\"../local/val.pkl\")\n",
    "test = load_split(\"../local/test.pkl\")\n",
    "POSTERS = load_data(\"../local/posters.npy\")\n",
    "\n",
    "RES152 = resnet152(pretrained=True)\n",
    "\n",
    "# Freeze base layers\n",
    "for child in list(RES152.children())[:-3]:\n",
    "    for param in child.parameters():\n",
    "        param.requires_grad = False\n",
    "\n",
    "# Conv4, turn off grad in first 2 blocks\n",
    "for child in list(list(RES152.children())[-3].children())[:2]:\n",
    "    for param in child.parameters():\n",
    "        param.requires_grad = False"
   ]
  },
  {
   "cell_type": "code",
   "execution_count": 18,
   "metadata": {},
   "outputs": [],
   "source": [
    "CNN = nn.Sequential(*list(RES152.children())[:-1]).cuda()\n",
    "classifier = MultiLayerFCReLUClassifier(dims=[1024,512,128], num_class=19, encoding_size=2048, cuda=True)\n",
    "\n",
    "model = PosterOnlyModel(CNN, classifier, POSTERS, GENRES)"
   ]
  },
  {
   "cell_type": "code",
   "execution_count": 39,
   "metadata": {},
   "outputs": [],
   "source": [
    "adam = torch.optim.Adam(filter(lambda p:p.requires_grad, model.parameters()))\n",
    "\n",
    "sgd = torch.optim.SGD(params=filter(lambda p:p.requires_grad, model.parameters()),\n",
    "                            lr=1e-3, momentum=0.9)\n",
    "\n",
    "scheduler = torch.optim.lr_scheduler.ReduceLROnPlateau(sgd, 'max')\n",
    "\n",
    "optimizer = adam\n",
    "scheduler = None\n",
    "\n",
    "loss = torch.nn.BCEWithLogitsLoss().cuda()"
   ]
  },
  {
   "cell_type": "code",
   "execution_count": null,
   "metadata": {},
   "outputs": [],
   "source": [
    "loss_hist = []\n",
    "for i in range(10):\n",
    "    train_epoches(n_epochs=20, model=tomodel, train=train, loss=loss, val=val,\n",
    "                  batch_size=32, optimizer=optimizer, scheduler=scheduler)\n",
    "    loss_hist.append(epoch_losses)\n",
    "    bn = (i+1)*50\n",
    "    torch.save(tomodel.encoder, \"saved/poster_encoder_{}.pth\".format(bn))\n",
    "    torch.save(tomodel.classifier, \"saved/cnn_cls_{}.pth\".format(bn))"
   ]
  }
 ],
 "metadata": {
  "kernelspec": {
   "display_name": "Python 3",
   "language": "python",
   "name": "python3"
  },
  "language_info": {
   "codemirror_mode": {
    "name": "ipython",
    "version": 3
   },
   "file_extension": ".py",
   "mimetype": "text/x-python",
   "name": "python",
   "nbconvert_exporter": "python",
   "pygments_lexer": "ipython3",
   "version": "3.6.5"
  }
 },
 "nbformat": 4,
 "nbformat_minor": 2
}
