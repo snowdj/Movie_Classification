{
 "cells": [
  {
   "cell_type": "code",
   "execution_count": 37,
   "metadata": {
    "collapsed": true
   },
   "outputs": [],
   "source": [
    "from modules import IO\n",
    "import numpy as np\n",
    "data_folder = './data/'\n",
    "tmdb_genres_list = IO(data_folder + 'tmdb_genres_list.pkl').read_pickle()\n",
    "movies = IO(data_folder + 'tmdb_processed.pkl').read_pickle()"
   ]
  },
  {
   "cell_type": "code",
   "execution_count": 38,
   "metadata": {
    "collapsed": true
   },
   "outputs": [],
   "source": [
    "movies = movies[130973:]"
   ]
  },
  {
   "cell_type": "code",
   "execution_count": 39,
   "metadata": {
    "collapsed": true
   },
   "outputs": [],
   "source": [
    "titles = np.array([m['title'] for m in movies])\n",
    "plots = np.array([m['overview'] for m in movies])\n",
    "genres = np.array([m['genre_ids'] for m in movies])"
   ]
  },
  {
   "cell_type": "code",
   "execution_count": 40,
   "metadata": {},
   "outputs": [
    {
     "data": {
      "text/plain": [
       "30000"
      ]
     },
     "execution_count": 40,
     "metadata": {},
     "output_type": "execute_result"
    }
   ],
   "source": [
    "len(titles)"
   ]
  },
  {
   "cell_type": "code",
   "execution_count": 41,
   "metadata": {},
   "outputs": [
    {
     "data": {
      "text/plain": [
       "19"
      ]
     },
     "execution_count": 41,
     "metadata": {},
     "output_type": "execute_result"
    }
   ],
   "source": [
    "k = len(tmdb_genres_list)\n",
    "k"
   ]
  },
  {
   "cell_type": "markdown",
   "metadata": {},
   "source": [
    "# Word2vec"
   ]
  },
  {
   "cell_type": "code",
   "execution_count": 42,
   "metadata": {
    "collapsed": true
   },
   "outputs": [],
   "source": [
    "from gensim import models\n",
    "from gensim.models import Word2Vec"
   ]
  },
  {
   "cell_type": "code",
   "execution_count": 43,
   "metadata": {
    "collapsed": true
   },
   "outputs": [],
   "source": [
    "model2 = models.KeyedVectors.load_word2vec_format('GoogleNews-vectors-negative300.bin', binary=True)"
   ]
  },
  {
   "cell_type": "code",
   "execution_count": 44,
   "metadata": {
    "collapsed": true
   },
   "outputs": [],
   "source": [
    "from nltk.tokenize import RegexpTokenizer\n",
    "from stop_words import get_stop_words\n",
    "tokenizer = RegexpTokenizer(r'\\w+')\n",
    "\n",
    "# create English stop words list\n",
    "en_stop = get_stop_words('en')"
   ]
  },
  {
   "cell_type": "code",
   "execution_count": 45,
   "metadata": {},
   "outputs": [
    {
     "data": {
      "text/plain": [
       "(30000, 300)"
      ]
     },
     "execution_count": 45,
     "metadata": {},
     "output_type": "execute_result"
    }
   ],
   "source": [
    "movie_mean_wordvec=np.zeros((len(movies),300))\n",
    "movie_mean_wordvec.shape"
   ]
  },
  {
   "cell_type": "code",
   "execution_count": 46,
   "metadata": {
    "collapsed": true
   },
   "outputs": [],
   "source": [
    "rows_to_delete=[]\n",
    "for i in range(len(movies)):\n",
    "    mov=movies[i]\n",
    "    overview=mov['overview']\n",
    "    tokens = tokenizer.tokenize(overview)\n",
    "    stopped_tokens = [k for k in tokens if not k in en_stop]\n",
    "    count_in_vocab=0\n",
    "    s=0\n",
    "    if len(stopped_tokens)==0:\n",
    "        rows_to_delete.append(i)\n",
    "\n",
    "    else:\n",
    "        for tok in stopped_tokens:\n",
    "            if tok.lower() in model2.vocab:\n",
    "                count_in_vocab+=1\n",
    "                s+=model2[tok.lower()]\n",
    "        if count_in_vocab!=0:\n",
    "            movie_mean_wordvec[i]=s/float(count_in_vocab)\n",
    "        else:\n",
    "            rows_to_delete.append(i)"
   ]
  },
  {
   "cell_type": "code",
   "execution_count": 47,
   "metadata": {
    "collapsed": true
   },
   "outputs": [],
   "source": [
    "mask2=[]\n",
    "for row in range(len(movie_mean_wordvec)):\n",
    "    if row in rows_to_delete:\n",
    "        mask2.append(False)\n",
    "    else:\n",
    "        mask2.append(True)"
   ]
  },
  {
   "cell_type": "code",
   "execution_count": 48,
   "metadata": {
    "collapsed": true
   },
   "outputs": [],
   "source": [
    "X=movie_mean_wordvec[mask2]"
   ]
  },
  {
   "cell_type": "code",
   "execution_count": 49,
   "metadata": {
    "collapsed": true
   },
   "outputs": [],
   "source": [
    "from sklearn.preprocessing import MultiLabelBinarizer\n",
    "mlb=MultiLabelBinarizer()\n",
    "Y=mlb.fit_transform(genres)"
   ]
  },
  {
   "cell_type": "code",
   "execution_count": 50,
   "metadata": {
    "collapsed": true
   },
   "outputs": [],
   "source": [
    "np.random.seed(10)\n",
    "mask_text=np.random.rand(len(X))<0.8\n",
    "X_train=X[mask_text]\n",
    "Y_train=Y[mask_text]\n",
    "X_test=X[~mask_text]\n",
    "Y_test=Y[~mask_text]"
   ]
  },
  {
   "cell_type": "code",
   "execution_count": 8,
   "metadata": {
    "collapsed": true
   },
   "outputs": [],
   "source": [
    "#dimsize = 100"
   ]
  },
  {
   "cell_type": "code",
   "execution_count": 37,
   "metadata": {
    "collapsed": true
   },
   "outputs": [],
   "source": [
    "#X = np.array([m['overview'].split(\" \") for m in movies])"
   ]
  },
  {
   "cell_type": "code",
   "execution_count": 47,
   "metadata": {
    "collapsed": true
   },
   "outputs": [],
   "source": [
    "# train model\n",
    "#model = Word2Vec(X, iter=10, min_count=10, size=dimsize, workers=4)"
   ]
  },
  {
   "cell_type": "code",
   "execution_count": 33,
   "metadata": {
    "collapsed": true
   },
   "outputs": [],
   "source": [
    "#model.train(X, total_examples=len(X), epochs=10)"
   ]
  },
  {
   "cell_type": "code",
   "execution_count": 62,
   "metadata": {
    "collapsed": true
   },
   "outputs": [],
   "source": [
    "# def avg_word_vectors(wordlist,size):\n",
    "#     \"\"\"\n",
    "#     returns a vector of zero for reviews containing words where none of them\n",
    "#     met the min_count or were not seen in the training set\n",
    "    \n",
    "#     Otherwise return an average of the embeddings vectors\n",
    "    \n",
    "#     \"\"\"\n",
    "    \n",
    "#     sumvec=np.zeros(shape=(1,size))\n",
    "#     wordcnt=0\n",
    "    \n",
    "#     for w in wordlist:\n",
    "#         if w in model:\n",
    "#             sumvec += model.wv[w]\n",
    "#             wordcnt +=1\n",
    "    \n",
    "#     if wordcnt ==0:\n",
    "#         return sumvec\n",
    "    \n",
    "#     else:\n",
    "#         return sumvec / wordcnt"
   ]
  },
  {
   "cell_type": "code",
   "execution_count": 34,
   "metadata": {
    "collapsed": true
   },
   "outputs": [],
   "source": [
    "# X_train = X[train_idx]\n",
    "# X_test = X[test_idx]"
   ]
  },
  {
   "cell_type": "code",
   "execution_count": 76,
   "metadata": {},
   "outputs": [
    {
     "name": "stderr",
     "output_type": "stream",
     "text": [
      "/Users/gwungwun/anaconda/lib/python3.6/site-packages/ipykernel_launcher.py:14: DeprecationWarning: Call to deprecated `__contains__` (Method will be removed in 4.0.0, use self.wv.__contains__() instead).\n",
      "  \n"
     ]
    }
   ],
   "source": [
    "# X_train=np.concatenate([avg_word_vectors(w,dimsize) for w in X_train_raw])\n",
    "# X_test=np.concatenate([avg_word_vectors(w,dimsize) for w in X_test_raw])"
   ]
  },
  {
   "cell_type": "markdown",
   "metadata": {},
   "source": [
    "# Naive Bayes"
   ]
  },
  {
   "cell_type": "code",
   "execution_count": 28,
   "metadata": {
    "collapsed": true
   },
   "outputs": [],
   "source": [
    "def precision_recall(gt,preds):\n",
    "    TP=0\n",
    "    FP=0\n",
    "    FN=0\n",
    "    for i in range(len(gt)):\n",
    "        if gt[i] ==1 and preds[i] == 1:\n",
    "            TP+=1\n",
    "        elif gt[i] ==0 and preds[i] == 1:\n",
    "            FN+=1\n",
    "        elif gt[i] ==1 and preds[i] == 0:\n",
    "            FP+=1\n",
    "    if TP+FP==0:\n",
    "        precision=0\n",
    "    else:\n",
    "        precision=TP/float(TP+FP)\n",
    "    if TP+FN==0:\n",
    "        recall=0\n",
    "    else:\n",
    "        recall=TP/float(TP+FN)\n",
    "    if TP + FP + FN == 0:\n",
    "        f1 = 0\n",
    "    else:\n",
    "        f1 = 2 * TP / float(2 * TP + FP + FN)\n",
    "    return precision,recall,f1"
   ]
  },
  {
   "cell_type": "code",
   "execution_count": 16,
   "metadata": {
    "collapsed": true
   },
   "outputs": [],
   "source": [
    "def hamming_loss(gt, preds):\n",
    "    err = 0\n",
    "    for i in range(len(gt)):\n",
    "        if gt[i] ==0 and preds[i] == 1 or gt[i] ==1 and preds[i] == 0:\n",
    "            err +=1\n",
    "    return err"
   ]
  },
  {
   "cell_type": "code",
   "execution_count": 51,
   "metadata": {
    "collapsed": true
   },
   "outputs": [],
   "source": [
    "def evaluate(model, LabelPowerset = False, tfidf=False):\n",
    "    if tfidf:\n",
    "        X_tr = X_train_tfidf\n",
    "        X_te = X_test_tfidf\n",
    "    else:\n",
    "        X_tr = X_train\n",
    "        X_te = X_test\n",
    "    \n",
    "    model.fit(X_tr, Y_train)\n",
    "#     train_acc = model.score(X_tr,Y_train)\n",
    "#     test_acc = model.score(X_te,Y_test)\n",
    "    \n",
    "    if LabelPowerset:\n",
    "        train_pred = model.predict(X_tr).toarray()\n",
    "        test_pred = model.predict(X_te).toarray()\n",
    "    else:\n",
    "        train_pred = model.predict(X_tr)\n",
    "        test_pred = model.predict(X_te)\n",
    "\n",
    "    f1_micro_train = f1_score(Y_train, train_pred, average='micro') \n",
    "    f1_micro_test = f1_score(Y_test, test_pred, average='micro') \n",
    "    prec_micro_train = precision_score(Y_train, train_pred, average='micro') \n",
    "    prec_micro_test = precision_score(Y_test, test_pred, average='micro') \n",
    "    recs_micro_train = recall_score(Y_train, train_pred, average='micro') \n",
    "    recs_micro_test = recall_score(Y_test, test_pred, average='micro') \n",
    "        \n",
    "#     train_precs=[]\n",
    "#     train_recs=[]\n",
    "#     test_precs=[]\n",
    "#     test_recs=[]\n",
    "#     train_f1=[]\n",
    "#     test_f1=[]\n",
    "# #     train_h_loss = []\n",
    "# #     test_h_loss = []\n",
    "    \n",
    "#     for i in range(len(Y_test)):\n",
    "#         a,b,c=precision_recall(Y_train[i],train_pred[i])\n",
    "#         train_precs.append(a)\n",
    "#         train_recs.append(b)\n",
    "#         train_f1.append(c)\n",
    "#         a,b,c=precision_recall(Y_test[i],test_pred[i])\n",
    "#         test_precs.append(a)\n",
    "#         test_recs.append(b)\n",
    "#         test_f1.append(c)\n",
    "#         train_h_loss.append(hamming_loss(Y_train[i],train_pred[i]))\n",
    "#         test_h_loss.append(hamming_loss(Y_test[i],test_pred[i]))\n",
    "    \n",
    "    #print(\"Acc: {} (train)   {} (test)\".format(train_acc, test_acc))\n",
    "    print(\" Training Precision:{} Recall :{} f1 micro score:{}\" .format(prec_micro_train, recs_micro_train, f1_micro_train))\n",
    "    print(\" Test Precision:{} Recall :{} f1 micro score:{}\" .format(prec_micro_test, recs_micro_test, f1_micro_test))\n",
    "    #print(\" Training Hamming Loss:{} Test Hamming Loss :{}\" .format(np.mean(np.asarray(train_h_loss)/k), np.mean(np.asarray(test_h_loss)/k)))\n",
    "    \n",
    "    \n",
    "    #print(\"F1: {} (train)   {} (test)\".format(train_f1, test_f1))"
   ]
  },
  {
   "cell_type": "code",
   "execution_count": 52,
   "metadata": {
    "collapsed": true
   },
   "outputs": [],
   "source": [
    "from sklearn.naive_bayes import MultinomialNB\n",
    "from sklearn.metrics import f1_score, precision_score, recall_score\n",
    "from skmultilearn.problem_transform import BinaryRelevance\n",
    "from sklearn.multiclass import OneVsRestClassifier\n",
    "from skmultilearn.problem_transform import LabelPowerset\n",
    "from sklearn.ensemble import RandomForestClassifier"
   ]
  },
  {
   "cell_type": "code",
   "execution_count": 53,
   "metadata": {
    "collapsed": true
   },
   "outputs": [],
   "source": [
    "from sklearn.svm import LinearSVC"
   ]
  },
  {
   "cell_type": "code",
   "execution_count": 54,
   "metadata": {
    "collapsed": true
   },
   "outputs": [],
   "source": [
    "svm = OneVsRestClassifier(LinearSVC())"
   ]
  },
  {
   "cell_type": "code",
   "execution_count": 55,
   "metadata": {},
   "outputs": [
    {
     "name": "stdout",
     "output_type": "stream",
     "text": [
      " Training Precision:0.6575953797689884 Recall :0.2253913982364585 f1 micro score:0.3357158811704266\n",
      " Test Precision:0.6193259972489684 Recall :0.21374317588416805 f1 micro score:0.3178048350097053\n"
     ]
    }
   ],
   "source": [
    "evaluate(svm)"
   ]
  },
  {
   "cell_type": "code",
   "execution_count": null,
   "metadata": {
    "collapsed": true
   },
   "outputs": [],
   "source": [
    "1"
   ]
  },
  {
   "cell_type": "code",
   "execution_count": null,
   "metadata": {
    "collapsed": true
   },
   "outputs": [],
   "source": []
  }
 ],
 "metadata": {
  "kernelspec": {
   "display_name": "Python 3",
   "language": "python",
   "name": "python3"
  },
  "language_info": {
   "codemirror_mode": {
    "name": "ipython",
    "version": 3
   },
   "file_extension": ".py",
   "mimetype": "text/x-python",
   "name": "python",
   "nbconvert_exporter": "python",
   "pygments_lexer": "ipython3",
   "version": "3.6.1"
  }
 },
 "nbformat": 4,
 "nbformat_minor": 2
}
