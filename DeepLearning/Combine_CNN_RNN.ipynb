{
 "cells": [
  {
   "cell_type": "code",
   "execution_count": 1,
   "metadata": {},
   "outputs": [],
   "source": [
    "import torch\n",
    "import numpy as np\n",
    "import pickle\n",
    "\n",
    "from vocab import Vocab, load_vocab\n",
    "from common import Data, Split, Batches, load_data, encode_y, load_split\n",
    "from utils import ProgressBar, evaluate\n",
    "from pack import Pack\n",
    "from model import Model, Model2, TextOnlyModel\n",
    "from train import train_epoches\n",
    "\n",
    "%load_ext autoreload\n",
    "%autoreload 2"
   ]
  },
  {
   "cell_type": "code",
   "execution_count": 2,
   "metadata": {},
   "outputs": [],
   "source": [
    "genre_list = pickle.load(open(\"../data/tmdb_genres_list.pkl\", 'rb'))\n",
    "\n",
    "GENRES = load_data(\"../local/genres.pkl\")\n",
    "train = load_split(\"../local/train.pkl\")\n",
    "val = load_split(\"../local/val.pkl\")\n",
    "test = load_split(\"../local/test.pkl\")\n",
    "embedding = torch.load('../local/embedding.pth')\n",
    "OVERVIEWS_ENCODED = load_data(\"../local/overviews_encoded.pkl\")\n",
    "TITLES_ENCODED = load_data(\"../local/titles_encoded.pkl\")"
   ]
  },
  {
   "cell_type": "code",
   "execution_count": 3,
   "metadata": {},
   "outputs": [],
   "source": [
    "_model = Model2(embedding, hidden_dim=512, num_layers=3, cuda=True)\n",
    "_model.encoder = torch.load(\"./saved/encoder_500.pth\")\n",
    "_model.classifier = torch.load(\"./saved/rnn_cls_500.pth\")\n",
    "_model.cuda()\n",
    "\n",
    "for param in _model.encoder.parameters():\n",
    "    param.requires_grad = False\n",
    "    \n",
    "optimizer = torch.optim.Adam(filter(lambda p:p.requires_grad, _model.classifier.parameters()))\n",
    "loss = torch.nn.BCEWithLogitsLoss().cuda()\n",
    "\n",
    "model = TextOnlyModel(_model.encoder, _model.classifier, OVERVIEWS_ENCODED, GENRES)"
   ]
  },
  {
   "cell_type": "code",
   "execution_count": 4,
   "metadata": {},
   "outputs": [
    {
     "name": "stdout",
     "output_type": "stream",
     "text": [
      "P 0.9673742742158459 \tR: 0.9730539847347115 \tF1: 0.9702058171062362\n",
      "P 0.456787109375 \tR: 0.5251192815043503 \tF1: 0.48857553205379295\n"
     ]
    },
    {
     "data": {
      "text/plain": [
       "(0.456787109375, 0.5251192815043503, 0.48857553205379295)"
      ]
     },
     "execution_count": 4,
     "metadata": {},
     "output_type": "execute_result"
    }
   ],
   "source": [
    "evaluate(train, model, 128)\n",
    "evaluate(val, model, 128)"
   ]
  },
  {
   "cell_type": "code",
   "execution_count": 10,
   "metadata": {},
   "outputs": [
    {
     "name": "stdout",
     "output_type": "stream",
     "text": [
      "...5..10...15..20..25...30..35..40...45..50..55...60..65..70...75..80..85...90..95..100 F\n",
      "epoch 0: 0.0091985995\n",
      "Train:\tP 0.9777579797855672 \tR: 0.9835290482076637 \tF1: 0.9806350233396497\n",
      "Val:\tP 0.455810546875 \tR: 0.5251758087201125 \tF1: 0.48804077898313947\n"
     ]
    }
   ],
   "source": [
    "losses = train_epoches(n_epochs=1, model=model, train=train, loss=loss, val=val,\n",
    "              batch_size=128, optimizer=optimizer, scheduler=None)"
   ]
  },
  {
   "cell_type": "code",
   "execution_count": null,
   "metadata": {},
   "outputs": [],
   "source": [
    "evaluate(test, model)"
   ]
  },
  {
   "cell_type": "code",
   "execution_count": null,
   "metadata": {},
   "outputs": [],
   "source": []
  }
 ],
 "metadata": {
  "kernelspec": {
   "display_name": "Python 3",
   "language": "python",
   "name": "python3"
  },
  "language_info": {
   "codemirror_mode": {
    "name": "ipython",
    "version": 3
   },
   "file_extension": ".py",
   "mimetype": "text/x-python",
   "name": "python",
   "nbconvert_exporter": "python",
   "pygments_lexer": "ipython3",
   "version": "3.6.5"
  }
 },
 "nbformat": 4,
 "nbformat_minor": 2
}
