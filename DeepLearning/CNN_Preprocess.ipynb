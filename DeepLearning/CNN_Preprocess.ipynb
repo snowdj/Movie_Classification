{
 "cells": [
  {
   "cell_type": "markdown",
   "metadata": {},
   "source": [
    "# Requires HUGE MEMORY to run (>64GB)"
   ]
  },
  {
   "cell_type": "code",
   "execution_count": 1,
   "metadata": {},
   "outputs": [],
   "source": [
    "import numpy as np\n",
    "import cv2\n",
    "import os\n",
    "\n",
    "from torchvision import transforms\n",
    "\n",
    "from common import Data\n",
    "\n",
    "%load_ext autoreload\n",
    "%autoreload 2"
   ]
  },
  {
   "cell_type": "code",
   "execution_count": 2,
   "metadata": {},
   "outputs": [],
   "source": [
    "normalize = transforms.Normalize(mean=[0.485, 0.456, 0.406],\n",
    "                                 std=[0.229, 0.224, 0.225])\n",
    "toTensor = transforms.ToTensor()\n",
    "preprocess = transforms.Compose([toTensor, normalize])\n",
    "\n",
    "images_list = []\n",
    "\n",
    "image_folder = \"../local/posters/\"\n",
    "for i in range(30000):\n",
    "    f = os.path.join(image_folder, \"{}.jpg\".format(i))\n",
    "    I = cv2.imread(f)\n",
    "    assert(I is not None)\n",
    "    I = preprocess(I)\n",
    "    images_list.append(I.numpy())"
   ]
  },
  {
   "cell_type": "code",
   "execution_count": 3,
   "metadata": {},
   "outputs": [],
   "source": [
    "images = np.stack(images_list)"
   ]
  },
  {
   "cell_type": "code",
   "execution_count": 4,
   "metadata": {},
   "outputs": [],
   "source": [
    "POSTERS = Data(images)\n",
    "assert(len(POSTERS)==30000)\n",
    "POSTERS.save(\"../local/posters.npy\")"
   ]
  },
  {
   "cell_type": "code",
   "execution_count": 5,
   "metadata": {},
   "outputs": [],
   "source": [
    "del images_list\n",
    "del images\n",
    "del POSTERS"
   ]
  },
  {
   "cell_type": "code",
   "execution_count": null,
   "metadata": {},
   "outputs": [],
   "source": []
  }
 ],
 "metadata": {
  "kernelspec": {
   "display_name": "Python 3",
   "language": "python",
   "name": "python3"
  },
  "language_info": {
   "codemirror_mode": {
    "name": "ipython",
    "version": 3
   },
   "file_extension": ".py",
   "mimetype": "text/x-python",
   "name": "python",
   "nbconvert_exporter": "python",
   "pygments_lexer": "ipython3",
   "version": "3.6.5"
  }
 },
 "nbformat": 4,
 "nbformat_minor": 2
}
